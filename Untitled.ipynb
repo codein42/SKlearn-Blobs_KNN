{
 "cells": [
  {
   "cell_type": "code",
   "execution_count": 26,
   "metadata": {},
   "outputs": [],
   "source": [
    "import numpy as np\n",
    "import matplotlib.pyplot as plt"
   ]
  },
  {
   "cell_type": "code",
   "execution_count": 106,
   "metadata": {},
   "outputs": [
    {
     "data": {
      "text/plain": [
       "array([[ 1.3315865 ,  0.71527897, -1.54540029, -0.00838385,  0.62133597,\n",
       "        -0.72008556,  0.26551159,  0.10854853,  0.00429143, -0.17460021],\n",
       "       [ 0.43302619,  1.20303737, -0.96506567,  1.02827408,  0.22863013,\n",
       "         0.44513761, -1.13660221,  0.13513688,  1.484537  , -1.07980489],\n",
       "       [-1.97772828, -1.7433723 ,  0.26607016,  2.38496733,  1.12369125,\n",
       "         1.67262221,  0.09914922,  1.39799638, -0.27124799,  0.61320418],\n",
       "       [-0.26731719, -0.54930901,  0.1327083 , -0.47614201,  1.30847308,\n",
       "         0.19501328,  0.40020999, -0.33763234,  1.25647226, -0.7319695 ],\n",
       "       [ 0.66023155, -0.35087189, -0.93943336, -0.48933722, -0.80459114,\n",
       "        -0.21269764, -0.33914025,  0.31216994,  0.56515267, -0.14742026],\n",
       "       [-0.02590534,  0.2890942 , -0.53987907,  0.70816002,  0.84222474,\n",
       "         0.2035808 ,  2.39470366,  0.91745894, -0.11227247, -0.36218045],\n",
       "       [-0.23218226, -0.5017289 ,  1.12878515, -0.69781003, -0.08112218,\n",
       "        -0.52929608,  1.04618286, -1.41855603, -0.36249918, -0.12190569],\n",
       "       [ 0.31935642,  0.4609029 , -0.21578989,  0.98907246,  0.31475378,\n",
       "         2.46765106, -1.50832149,  0.62060066, -1.04513254, -0.79800882],\n",
       "       [ 1.98508459,  1.74481415, -1.85618548, -0.2227737 , -0.06584785,\n",
       "        -2.13171211, -0.04883051,  0.39334122,  0.21726515, -1.99439377],\n",
       "       [ 1.10770823,  0.24454398, -0.06191203, -0.75389296,  0.71195902,\n",
       "         0.91826915, -0.48209314,  0.08958761,  0.82699862, -1.95451212]])"
      ]
     },
     "execution_count": 106,
     "metadata": {},
     "output_type": "execute_result"
    }
   ],
   "source": [
    "np.random.seed(10)\n",
    "arr = np.random.randn(10, 10)\n",
    "arr"
   ]
  },
  {
   "cell_type": "code",
   "execution_count": 109,
   "metadata": {},
   "outputs": [
    {
     "data": {
      "text/plain": [
       "array([[ 0.11747566, -1.90745689, -0.92290926,  0.46975143, -0.14436676,\n",
       "        -0.40013835, -0.29598385,  0.84820861,  0.70683045, -0.78726893],\n",
       "       [ 0.29294072, -0.47080725,  2.40432561, -0.73935674, -0.31282876,\n",
       "        -0.34888192, -0.43902624,  0.14110417,  0.27304932, -1.61857075],\n",
       "       [-0.57311336, -1.32044755,  1.23620533,  2.46532508,  1.38323223,\n",
       "         0.34623312,  1.02251611,  0.16681027,  1.65671662,  0.66788961],\n",
       "       [-0.22994664, -1.12955119, -0.6399626 ,  0.31383052, -1.22583598,\n",
       "        -0.22179314,  1.33992631,  0.02930971,  1.98538575,  1.4471656 ],\n",
       "       [-0.28762941, -1.35931057, -0.04804133, -0.48078734,  0.37775309,\n",
       "         1.61440797, -1.12310404, -0.38872795,  0.33234995,  1.13497317],\n",
       "       [ 0.51071441,  0.41429764,  1.34454942,  0.49351532, -0.23700418,\n",
       "         0.05728515, -0.70707145,  0.54666484,  0.94250041, -2.97959677],\n",
       "       [ 1.21814885, -0.05652072,  0.46088845,  0.66237401, -2.29510333,\n",
       "        -1.19592931, -0.33310116, -0.79139077,  0.27417278, -0.51490992],\n",
       "       [-1.7110712 ,  0.61229731,  1.10012937,  0.56435253, -0.71279944,\n",
       "        -0.26085948,  0.54842807,  0.60319905,  1.00686114, -0.29442601],\n",
       "       [-1.42088052, -0.67894677,  0.53388481,  0.7439744 ,  2.22504964,\n",
       "         0.11718142,  0.24461452, -0.17729882, -0.40572953,  0.78177519],\n",
       "       [ 0.35347761, -0.20727949, -1.07969738, -0.12306983, -0.39098219,\n",
       "         1.25517373,  0.94712608, -1.02231069,  1.16716837, -0.57197681]])"
      ]
     },
     "execution_count": 109,
     "metadata": {},
     "output_type": "execute_result"
    }
   ],
   "source": [
    "\n",
    "arr = np.random.randn(10, 10)\n",
    "arr"
   ]
  },
  {
   "cell_type": "code",
   "execution_count": 99,
   "metadata": {},
   "outputs": [
    {
     "data": {
      "text/plain": [
       "array([[ 1.3315865 ,  0.71527897, -1.54540029, -0.00838385,  0.62133597,\n",
       "        -0.72008556,  0.26551159,  0.10854853,  0.00429143, -0.17460021],\n",
       "       [ 0.43302619,  1.20303737, -0.96506567,  1.02827408,  0.22863013,\n",
       "         0.44513761, -1.13660221,  0.13513688,  1.484537  , -1.07980489],\n",
       "       [-1.97772828, -1.7433723 ,  0.26607016,  2.38496733,  1.12369125,\n",
       "         1.67262221,  0.09914922,  1.39799638, -0.27124799,  0.61320418],\n",
       "       [-0.26731719, -0.54930901,  0.1327083 , -0.47614201,  1.30847308,\n",
       "         0.19501328,  0.40020999, -0.33763234,  1.25647226, -0.7319695 ],\n",
       "       [ 0.66023155, -0.35087189, -0.93943336, -0.48933722, -0.80459114,\n",
       "        -0.21269764, -0.33914025,  0.31216994,  0.56515267, -0.14742026],\n",
       "       [-0.02590534,  0.2890942 , -0.53987907,  0.70816002,  0.84222474,\n",
       "         0.2035808 ,  2.39470366,  0.91745894, -0.11227247, -0.36218045],\n",
       "       [-0.23218226, -0.5017289 ,  1.12878515, -0.69781003, -0.08112218,\n",
       "        -0.52929608,  1.04618286, -1.41855603, -0.36249918, -0.12190569],\n",
       "       [ 0.31935642,  0.4609029 , -0.21578989,  0.98907246,  0.31475378,\n",
       "         2.46765106, -1.50832149,  0.62060066, -1.04513254, -0.79800882],\n",
       "       [ 1.98508459,  1.74481415, -1.85618548, -0.2227737 , -0.06584785,\n",
       "        -2.13171211, -0.04883051,  0.39334122,  0.21726515, -1.99439377],\n",
       "       [ 1.10770823,  0.24454398, -0.06191203, -0.75389296,  0.71195902,\n",
       "         0.91826915, -0.48209314,  0.08958761,  0.82699862, -1.95451212]])"
      ]
     },
     "execution_count": 99,
     "metadata": {},
     "output_type": "execute_result"
    }
   ],
   "source": []
  },
  {
   "cell_type": "code",
   "execution_count": 7,
   "metadata": {},
   "outputs": [
    {
     "data": {
      "text/plain": [
       "0.025561579177988545"
      ]
     },
     "execution_count": 7,
     "metadata": {},
     "output_type": "execute_result"
    }
   ],
   "source": [
    "arr.mean()"
   ]
  },
  {
   "cell_type": "code",
   "execution_count": 5,
   "metadata": {},
   "outputs": [
    {
     "data": {
      "text/plain": [
       "0.9673658221290887"
      ]
     },
     "execution_count": 5,
     "metadata": {},
     "output_type": "execute_result"
    }
   ],
   "source": [
    "arr.std()"
   ]
  },
  {
   "cell_type": "code",
   "execution_count": 9,
   "metadata": {},
   "outputs": [
    {
     "data": {
      "text/plain": [
       "array([[-1.30076761,  1.03738288, -0.5593188 , -0.77590905, -0.7096747 ,\n",
       "         0.9328167 , -0.0281402 ,  0.99215146,  0.30863965, -0.69400785],\n",
       "       [ 2.29233173, -2.35457119,  0.77203694, -0.84744914, -0.34964532,\n",
       "         0.9585543 ,  0.92461217,  0.39938434, -0.48716356, -0.86835566],\n",
       "       [-0.40065906,  0.78937085,  0.50280763, -0.04462015, -0.50668902,\n",
       "        -1.44484799,  0.04662178, -0.73042789,  1.43659287, -0.95342757],\n",
       "       [-0.04096419, -0.10855086,  1.72326307,  0.62828512,  1.48376581,\n",
       "         0.56269058, -0.10447561,  0.00491528, -0.83769956,  0.45255463],\n",
       "       [ 1.41412513,  0.49537602,  0.32218347, -1.29110078,  1.61406932,\n",
       "         0.42450474,  1.47427136,  0.93536431, -1.80002498, -1.78143717],\n",
       "       [-0.37892641,  0.54699407,  0.63121337, -0.13426027, -0.3548385 ,\n",
       "         1.23166728,  1.25461949, -1.42806731, -0.94269537,  0.96500985],\n",
       "       [-1.40523288,  0.81806417,  0.1243708 ,  1.44018498,  1.63844748,\n",
       "        -1.26300812,  0.75823218, -0.55398905, -1.24670167,  0.71929704],\n",
       "       [ 1.58364387,  1.21162579,  0.26199726,  0.75906097, -0.36502713,\n",
       "         0.68415566, -1.45418262,  1.48692416,  0.48700633, -0.58906885],\n",
       "       [ 1.01789781, -0.20027705,  1.0019512 , -1.04573959, -0.08949934,\n",
       "        -0.13404465, -0.52395581, -1.57776695, -0.42685673,  1.04025719],\n",
       "       [-2.29582588, -2.08522145, -0.02264554,  0.22092789, -0.74401912,\n",
       "        -0.23678254, -0.37188687, -0.72334242, -0.59485234,  1.89187721]])"
      ]
     },
     "execution_count": 9,
     "metadata": {},
     "output_type": "execute_result"
    }
   ],
   "source": [
    "arr"
   ]
  },
  {
   "cell_type": "code",
   "execution_count": 11,
   "metadata": {},
   "outputs": [
    {
     "data": {
      "text/plain": [
       "array([1.41485967, 1.19678435, 0.58807901, 0.84116863, 0.94515667,\n",
       "       0.87939275, 0.85605968, 0.99896729, 0.88714747, 1.09437962])"
      ]
     },
     "execution_count": 11,
     "metadata": {},
     "output_type": "execute_result"
    }
   ],
   "source": [
    "np.std(arr, axis=0)"
   ]
  },
  {
   "cell_type": "code",
   "execution_count": 13,
   "metadata": {},
   "outputs": [
    {
     "data": {
      "text/plain": [
       "0.04495455822659829"
      ]
     },
     "execution_count": 13,
     "metadata": {},
     "output_type": "execute_result"
    }
   ],
   "source": [
    "arr.mean()"
   ]
  },
  {
   "cell_type": "code",
   "execution_count": 14,
   "metadata": {},
   "outputs": [
    {
     "data": {
      "text/plain": [
       "1.0182298703226742"
      ]
     },
     "execution_count": 14,
     "metadata": {},
     "output_type": "execute_result"
    }
   ],
   "source": [
    "arr.std()"
   ]
  },
  {
   "cell_type": "code",
   "execution_count": 73,
   "metadata": {},
   "outputs": [],
   "source": [
    "means = [10, 5]\n",
    "covs = [[2, .3], [.3, 2]]"
   ]
  },
  {
   "cell_type": "code",
   "execution_count": 78,
   "metadata": {},
   "outputs": [],
   "source": [
    "data = np.random.multivariate_normal(means, covs, 100)"
   ]
  },
  {
   "cell_type": "code",
   "execution_count": 79,
   "metadata": {},
   "outputs": [
    {
     "data": {
      "text/plain": [
       "array([10.20657546,  4.99613187])"
      ]
     },
     "execution_count": 79,
     "metadata": {},
     "output_type": "execute_result"
    }
   ],
   "source": [
    "data.mean(axis=0)"
   ]
  },
  {
   "cell_type": "code",
   "execution_count": 80,
   "metadata": {},
   "outputs": [
    {
     "data": {
      "text/plain": [
       "array([1.49601888, 1.52059521])"
      ]
     },
     "execution_count": 80,
     "metadata": {},
     "output_type": "execute_result"
    }
   ],
   "source": [
    "data.std(axis=0)"
   ]
  },
  {
   "cell_type": "code",
   "execution_count": 81,
   "metadata": {},
   "outputs": [
    {
     "data": {
      "text/plain": [
       "(-20, 20)"
      ]
     },
     "execution_count": 81,
     "metadata": {},
     "output_type": "execute_result"
    },
    {
     "data": {
      "image/png": "[encoded data removed]",
      "text/plain": [
       "<Figure size 432x288 with 1 Axes>"
      ]
     },
     "metadata": {
      "needs_background": "light"
     },
     "output_type": "display_data"
    }
   ],
   "source": [
    "plt.scatter(data[:, 0], data[:, 1])\n",
    "plt.xlim(-20, 20)\n",
    "plt.ylim(-20, 20)"
   ]
  },
  {
   "cell_type": "code",
   "execution_count": 82,
   "metadata": {},
   "outputs": [],
   "source": [
    "from sklearn.datasets import make_blobs"
   ]
  },
  {
   "cell_type": "code",
   "execution_count": 166,
   "metadata": {},
   "outputs": [],
   "source": [
    "X, y = make_blobs(centers=2, random_state=0, n_features=2)"
   ]
  },
  {
   "cell_type": "code",
   "execution_count": 167,
   "metadata": {},
   "outputs": [
    {
     "data": {
      "text/plain": [
       "<matplotlib.collections.PathCollection at 0x1242037b8>"
      ]
     },
     "execution_count": 167,
     "metadata": {},
     "output_type": "execute_result"
    },
    {
     "data": {
      "image/png": "[encoded data removed]",
      "text/plain": [
       "<Figure size 432x288 with 1 Axes>"
      ]
     },
     "metadata": {
      "needs_background": "light"
     },
     "output_type": "display_data"
    }
   ],
   "source": [
    "plt.scatter(X[:, 0], X[:, 1], c=y)"
   ]
  },
  {
   "cell_type": "code",
   "execution_count": 168,
   "metadata": {},
   "outputs": [],
   "source": [
    "# for point, color in zip(X, y):\n",
    "#     print(point, color)"
   ]
  },
  {
   "cell_type": "code",
   "execution_count": 169,
   "metadata": {},
   "outputs": [],
   "source": [
    "from sklearn.neighbors import KNeighborsClassifier"
   ]
  },
  {
   "cell_type": "code",
   "execution_count": 170,
   "metadata": {},
   "outputs": [],
   "source": [
    "model = KNeighborsClassifier(4)"
   ]
  },
  {
   "cell_type": "code",
   "execution_count": 171,
   "metadata": {},
   "outputs": [
    {
     "data": {
      "text/plain": [
       "KNeighborsClassifier(algorithm='auto', leaf_size=30, metric='minkowski',\n",
       "           metric_params=None, n_jobs=None, n_neighbors=4, p=2,\n",
       "           weights='uniform')"
      ]
     },
     "execution_count": 171,
     "metadata": {},
     "output_type": "execute_result"
    }
   ],
   "source": [
    "model.fit(X, y)"
   ]
  },
  {
   "cell_type": "code",
   "execution_count": 172,
   "metadata": {},
   "outputs": [
    {
     "data": {
      "text/plain": [
       "array([0, 1])"
      ]
     },
     "execution_count": 172,
     "metadata": {},
     "output_type": "execute_result"
    }
   ],
   "source": [
    "model.classes_"
   ]
  },
  {
   "cell_type": "code",
   "execution_count": 173,
   "metadata": {},
   "outputs": [
    {
     "data": {
      "text/plain": [
       "'euclidean'"
      ]
     },
     "execution_count": 173,
     "metadata": {},
     "output_type": "execute_result"
    }
   ],
   "source": [
    "model.effective_metric_"
   ]
  },
  {
   "cell_type": "code",
   "execution_count": 179,
   "metadata": {},
   "outputs": [
    {
     "data": {
      "text/plain": [
       "array([1, 1, 0, 0, 1])"
      ]
     },
     "execution_count": 179,
     "metadata": {},
     "output_type": "execute_result"
    }
   ],
   "source": [
    "model.predict(X[:5])"
   ]
  },
  {
   "cell_type": "code",
   "execution_count": 178,
   "metadata": {},
   "outputs": [
    {
     "data": {
      "text/plain": [
       "array([[ 4.21850347,  2.23419161],\n",
       "       [ 0.90779887,  0.45984362],\n",
       "       [-0.27652528,  5.08127768],\n",
       "       [ 0.08848433,  2.32299086],\n",
       "       [ 3.24329731,  1.21460627]])"
      ]
     },
     "execution_count": 178,
     "metadata": {},
     "output_type": "execute_result"
    }
   ],
   "source": [
    "X[:5]"
   ]
  },
  {
   "cell_type": "code",
   "execution_count": 180,
   "metadata": {},
   "outputs": [],
   "source": [
    "# model.predict_proba(X)"
   ]
  },
  {
   "cell_type": "code",
   "execution_count": 184,
   "metadata": {},
   "outputs": [],
   "source": [
    "votes = [\"aap\", \"bjp\", \"cong\", \"bjp\", \"bjp\", \"bjp\", \"cong\"]"
   ]
  },
  {
   "cell_type": "code",
   "execution_count": 186,
   "metadata": {},
   "outputs": [],
   "source": [
    "vals, counts = np.unique(votes, return_counts=True)"
   ]
  },
  {
   "cell_type": "code",
   "execution_count": 189,
   "metadata": {},
   "outputs": [
    {
     "data": {
      "text/plain": [
       "'bjp'"
      ]
     },
     "execution_count": 189,
     "metadata": {},
     "output_type": "execute_result"
    }
   ],
   "source": [
    "vals[counts.argmax()]"
   ]
  },
  {
   "cell_type": "code",
   "execution_count": null,
   "metadata": {},
   "outputs": [],
   "source": []
  }
 ],
 "metadata": {
  "kernelspec": {
   "display_name": "Python 3",
   "language": "python",
   "name": "python3"
  },
  "language_info": {
   "codemirror_mode": {
    "name": "ipython",
    "version": 3
   },
   "file_extension": ".py",
   "mimetype": "text/x-python",
   "name": "python",
   "nbconvert_exporter": "python",
   "pygments_lexer": "ipython3",
   "version": "3.7.1"
  }
 },
 "nbformat": 4,
 "nbformat_minor": 4
}
